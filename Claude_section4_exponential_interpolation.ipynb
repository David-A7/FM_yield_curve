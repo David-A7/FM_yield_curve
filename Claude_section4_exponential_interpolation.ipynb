{
 "cells": [
  {
   "cell_type": "markdown",
   "metadata": {},
   "source": [
    "# Exponential Interpolation and Continuous Compounding"
   ]
  },
  {
   "cell_type": "markdown",
   "metadata": {},
   "source": [
    "Exponential interpolation of discount factors assumes a constant continuously compounded rate between known points. This is a key technique in yield curve construction."
   ]
  },
  {
   "cell_type": "code",
   "execution_count": null,
   "metadata": {},
   "outputs": [],
   "source": [
    "import math\n",
    "import numpy as np\n",
    "import matplotlib.pyplot as plt"
   ]
  },
  {
   "cell_type": "markdown",
   "metadata": {},
   "source": [
    "## Key Formulas\n",
    "\n",
    "For discount factors $D_1$ and $D_2$ at times $t_1$ and $t_2$:\n",
    "\n",
    "1. **Implied continuous rate**: $r = -\\frac{\\ln(D_2/D_1)}{t_2-t_1}$\n",
    "\n",
    "2. **Exponential interpolation formula**: $D(t) = D_1 \\cdot \\left(\\frac{D_2}{D_1}\\right)^{\\frac{t-t_1}{t_2-t_1}}$\n",
    "\n",
    "This is equivalent to: $D(t) = D_1 \\cdot e^{-r(t-t_1)}$"
   ]
  },
  {
   "cell_type": "code",
   "execution_count": null,
   "metadata": {},
   "outputs": [],
   "source": [
    "# Example: Interpolate between two discount factors\n",
    "t1, t2 = 1.0, 3.0   # Time points (years)\n",
    "df1, df2 = 0.96, 0.85  # Discount factors\n",
    "\n",
    "# Calculate implied rate\n",
    "r_implied = -math.log(df2 / df1) / (t2 - t1)\n",
    "print(f\"Implied continuous rate: {r_implied:.4f} ({r_implied*100:.2f}%)\")\n",
    "\n",
    "# Interpolate at t = 2 years using both methods\n",
    "t_target = 2.0\n",
    "\n",
    "# Method 1: Direct exponential formula\n",
    "weight = (t_target - t1) / (t2 - t1)\n",
    "df_exp = df1 * (df2/df1)**weight\n",
    "\n",
    "# Method 2: Using implied rate\n",
    "df_rate = df1 * math.exp(-r_implied * (t_target - t1))\n",
    "\n",
    "print(f\"Exponential interpolation: {df_exp:.6f}\")\n",
    "print(f\"Using implied rate: {df_rate:.6f}\")\n",
    "print(f\"Difference: {abs(df_exp - df_rate):.12f}\")"
   ]
  },
  {
   "cell_type": "markdown",
   "metadata": {},
   "source": [
    "## Comparison with Linear Interpolation"
   ]
  },
  {
   "cell_type": "code",
   "execution_count": null,
   "metadata": {},
   "outputs": [],
   "source": [
    "# Generate time points\n",
    "times = np.linspace(0, 4, 100)\n",
    "df0 = 1.0  # Discount factor at t=0\n",
    "\n",
    "# Calculate exponential interpolation\n",
    "r_01 = -math.log(df1 / df0) / t1  # Rate from t=0 to t=1\n",
    "\n",
    "exp_dfs = []\n",
    "linear_dfs = []\n",
    "\n",
    "for t in times:\n",
    "    # Exponential interpolation/extrapolation\n",
    "    if t <= t1:\n",
    "        exp_df = df0 * math.exp(-r_01 * t)\n",
    "    elif t <= t2:\n",
    "        exp_df = df1 * math.exp(-r_implied * (t - t1))\n",
    "    else:\n",
    "        exp_df = df2 * math.exp(-r_implied * (t - t2))\n",
    "    exp_dfs.append(exp_df)\n",
    "    \n",
    "    # Linear interpolation/extrapolation\n",
    "    if t <= t1:\n",
    "        lin_df = df0 + (df1 - df0) * (t / t1)\n",
    "    elif t <= t2:\n",
    "        lin_df = df1 + (df2 - df1) * ((t - t1) / (t2 - t1))\n",
    "    else:\n",
    "        slope = (df2 - df1) / (t2 - t1)\n",
    "        lin_df = df2 + slope * (t - t2)\n",
    "    linear_dfs.append(lin_df)\n",
    "\n",
    "# Plot\n",
    "plt.figure(figsize=(9, 5))\n",
    "plt.plot(times, exp_dfs, 'b-', label='Exponential')\n",
    "plt.plot(times, linear_dfs, 'r--', label='Linear')\n",
    "plt.scatter([0, t1, t2], [df0, df1, df2], color='green', s=60)\n",
    "\n",
    "plt.xlabel('Time (years)')\n",
    "plt.ylabel('Discount Factor')\n",
    "plt.title('Exponential vs. Linear Interpolation')\n",
    "plt.grid(alpha=0.3)\n",
    "plt.legend()\n",
    "plt.show()"
   ]
  },
  {
   "cell_type": "markdown",
   "metadata": {},
   "source": [
    "## Application to Future Value Factors\n",
    "\n",
    "The same principles apply to future value (at-maturity) factors, which are reciprocals of discount factors.\n",
    "\n",
    "For future value factors $FV_1$ and $FV_2$ at times $t_1$ and $t_2$:\n",
    "\n",
    "1. **Implied rate**: $r = \\frac{\\ln(FV_2/FV_1)}{t_2-t_1}$\n",
    "\n",
    "2. **Interpolation formula**: $FV(t) = FV_1 \\cdot \\left(\\frac{FV_2}{FV_1}\\right)^{\\frac{t-t_1}{t_2-t_1}}$"
   ]
  },
  {
   "cell_type": "code",
   "execution_count": null,
   "metadata": {},
   "outputs": [],
   "source": [
    "# Example with future value factors\n",
    "fv1, fv2 = 1.04, 1.15  # Future value factors at t1 and t2\n",
    "\n",
    "# Calculate implied rate\n",
    "r_fv = math.log(fv2 / fv1) / (t2 - t1)\n",
    "print(f\"Implied rate from FV factors: {r_fv:.4f} ({r_fv*100:.2f}%)\")\n",
    "\n",
    "# Verify this matches the rate from discount factors\n",
    "print(f\"Rate from discount factors: {r_implied:.4f} ({r_implied*100:.2f}%)\")\n",
    "\n",
    "# Note: If fv1 = 1/df1 and fv2 = 1/df2, then r_fv ≈ r_implied"
   ]
  },
  {
   "cell_type": "markdown",
   "metadata": {},
   "source": [
    "## Why Use Exponential Interpolation?\n",
    "\n",
    "1. **Economic consistency**: Preserves the constant continuously compounded rate assumption\n",
    "\n",
    "2. **No-arbitrage**: Maintains mathematical consistency in forward rates\n",
    "\n",
    "3. **Term structure properties**: Produces smooth discount curves and forward rates\n",
    "\n",
    "4. **Industry standard**: Widely used in yield curve construction and fixed income analytics"
   ]
  }
 ],
 "metadata": {
  "kernelspec": {
   "display_name": "Python 3",
   "language": "python",
   "name": "python3"
  },
  "language_info": {
   "codemirror_mode": {
    "name": "ipython",
    "version": 3
   },
   "file_extension": ".py",
   "mimetype": "text/x-python",
   "name": "python",
   "nbconvert_exporter": "python",
   "pygments_lexer": "ipython3",
   "version": "3.12.1"
  }
 },
 "nbformat": 4,
 "nbformat_minor": 2
}