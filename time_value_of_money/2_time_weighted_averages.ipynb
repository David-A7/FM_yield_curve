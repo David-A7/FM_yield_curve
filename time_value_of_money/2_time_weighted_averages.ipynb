{
 "cells": [
  {
   "cell_type": "markdown",
   "metadata": {},
   "source": [
    "# Time-Weighted Averages of Continuously Compounded Rates"
   ]
  },
  {
   "cell_type": "markdown",
   "metadata": {},
   "source": [
    "One of the key advantages of continuously compounded rates is that they can be time-weighted to calculate rates for longer periods."
   ]
  },
  {
   "cell_type": "markdown",
   "metadata": {},
   "source": [
    "## Key Property: Time Additivity\n",
    "\n",
    "With continuously compounded rates, we can add the rate-time products:\n",
    "\n",
    "- For rate $r_1$ applied over time $t_1$ and rate $r_2$ over time $t_2$:\n",
    "  $e^{r_1 t_1} \\cdot e^{r_2 t_2} = e^{r_1 t_1 + r_2 t_2}$\n",
    "\n",
    "- This means the time-weighted average rate $r$ for the combined period is:\n",
    "  $$r = \\frac{r_1 \\cdot t_1 + r_2 \\cdot t_2}{t_1 + t_2}$$"
   ]
  },
  {
   "cell_type": "code",
   "execution_count": null,
   "metadata": {},
   "outputs": [],
   "source": [
    "import math\n",
    "import numpy as np\n",
    "import matplotlib.pyplot as plt\n",
    "\n",
    "# Example parameters\n",
    "principal = 1000.0  # Initial investment\n",
    "r1 = 0.05          # 5% continuously compounded for first period\n",
    "t1 = 2.0           # 2 years\n",
    "r2 = 0.08          # 8% continuously compounded for second period\n",
    "t2 = 3.0           # 3 years"
   ]
  },
  {
   "cell_type": "code",
   "execution_count": null,
   "metadata": {},
   "outputs": [],
   "source": [
    "# Apply rates sequentially\n",
    "intermediate = principal * math.exp(r1 * t1)\n",
    "final_sequential = intermediate * math.exp(r2 * t2)\n",
    "\n",
    "print(f\"Sequential application:\\n\"\"+\n",
    "      f\"Initial: ${principal:.2f}\\n\"+\n",
    "      f\"After period 1 ({t1} years at {r1*100:.1f}%): ${intermediate:.2f}\\n\"+\n",
    "      f\"After period 2 ({t2} years at {r2*100:.1f}%): ${final_sequential:.2f}\")"
   ]
  },
  {
   "cell_type": "code",
   "execution_count": null,
   "metadata": {},
   "outputs": [],
   "source": [
    "# Calculate time-weighted average rate\n",
    "r_combined = (r1 * t1 + r2 * t2) / (t1 + t2)\n",
    "total_time = t1 + t2\n",
    "\n",
    "# Apply the combined rate\n",
    "final_combined = principal * math.exp(r_combined * total_time)\n",
    "\n",
    "print(f\"Combined rate approach:\\n\"+\n",
    "      f\"Time-weighted average rate: {r_combined*100:.4f}%\\n\"+\n",
    "      f\"Total time: {total_time} years\\n\"+\n",
    "      f\"Final amount: ${final_combined:.2f}\\n\\n\"+\n",
    "      f\"Difference: ${final_sequential - final_combined:.10f}\")"
   ]
  },
  {
   "cell_type": "markdown",
   "metadata": {},
   "source": [
    "## Formal Proof\n",
    "\n",
    "For the time-weighted average to work, we need to show that:\n",
    "\n",
    "$$e^{r_1 t_1} \\cdot e^{r_2 t_2} = e^{r (t_1 + t_2)}$$\n",
    "\n",
    "Taking natural logarithm of both sides:\n",
    "\n",
    "$$r_1 t_1 + r_2 t_2 = r (t_1 + t_2)$$\n",
    "\n",
    "Solving for $r$:\n",
    "\n",
    "$$r = \\frac{r_1 t_1 + r_2 t_2}{t_1 + t_2}$$"
   ]
  },
  {
   "cell_type": "markdown",
   "metadata": {},
   "source": [
    "## Visualizing Time-Weighted Average Rates"
   ]
  },
  {
   "cell_type": "code",
   "execution_count": null,
   "metadata": {},
   "outputs": [],
   "source": [
    "# Create time points for plotting\n",
    "time_points = np.linspace(0, t1 + t2, 500)\n",
    "\n",
    "# Calculate future values for sequential rates\n",
    "future_values_seq = []\n",
    "for t in time_points:\n",
    "    if t <= t1:\n",
    "        fv = principal * math.exp(r1 * t)\n",
    "    else:\n",
    "        fv = principal * math.exp(r1 * t1) * math.exp(r2 * (t - t1))\n",
    "    future_values_seq.append(fv)\n",
    "\n",
    "# Calculate values for combined rate\n",
    "future_values_comb = [principal * math.exp(r_combined * t) for t in time_points]\n",
    "\n",
    "# Plot\n",
    "plt.figure(figsize=(10, 5))\n",
    "plt.plot(time_points, future_values_seq, 'b-', label='Sequential Rates')\n",
    "plt.plot(time_points, future_values_comb, 'r--', label='Combined Rate')\n",
    "plt.axvline(x=t1, color='gray', linestyle=':')\n",
    "plt.scatter([t1], [intermediate], color='green', s=70)\n",
    "\n",
    "plt.xlabel('Time (years)')\n",
    "plt.ylabel('Value ($)')\n",
    "plt.title(f'Sequential vs. Time-Weighted Rates: {r1*100:.1f}%, then {r2*100:.1f}% vs. {r_combined*100:.2f}%')\n",
    "plt.grid(alpha=0.3)\n",
    "plt.legend()\n",
    "plt.tight_layout()\n",
    "plt.show()"
   ]
  },
  {
   "cell_type": "markdown",
   "metadata": {},
   "source": [
    "## Extension to Multiple Rates\n",
    "\n",
    "For multiple rates $r_1, r_2, ..., r_n$ over periods $t_1, t_2, ..., t_n$, the combined rate is:\n",
    "\n",
    "$$r = \\frac{\\sum_{i=1}^{n} r_i t_i}{\\sum_{i=1}^{n} t_i}$$"
   ]
  },
  {
   "cell_type": "code",
   "execution_count": null,
   "metadata": {},
   "outputs": [],
   "source": [
    "# Example with three rates\n",
    "rates = [0.04, 0.06, 0.08]  # 4%, 6%, 8%\n",
    "times = [1.0, 2.0, 1.5]     # 1, 2, 1.5 years\n",
    "pv = 1000.0\n",
    "\n",
    "# Sequential application\n",
    "current_value = pv\n",
    "for r, t in zip(rates, times):\n",
    "    current_value *= math.exp(r * t)\n",
    "    \n",
    "# Combined rate\n",
    "r_weighted = sum(r*t for r,t in zip(rates, times)) / sum(times)\n",
    "total_time = sum(times)\n",
    "combined_value = pv * math.exp(r_weighted * total_time)\n",
    "\n",
    "print(f'Sequential result: ${current_value:.2f}')\n",
    "print(f'Combined rate ({r_weighted*100:.4f}%) result: ${combined_value:.2f}')\n",
    "print(f'Difference: ${current_value - combined_value:.10f}')"
   ]
  },
  {
   "cell_type": "markdown",
   "metadata": {},
   "source": [
    "## Applications in Finance\n",
    "\n",
    "This time-weighted averaging property makes continuously compounded rates particularly useful for:\n",
    "\n",
    "1. **Yield curve construction** - Allows for smooth interpolation between rates at different maturities\n",
    "2. **Forward rate calculations** - Simplifies extraction of implied forward rates\n",
    "3. **Discount factor interpolation** - Provides consistent exponential interpolation of discount factors\n",
    "4. **Duration calculations** - Helps in measuring interest rate sensitivity"
   ]
  }
 ],
 "metadata": {
  "kernelspec": {
   "display_name": "Python 3",
   "language": "python",
   "name": "python3"
  },
  "language_info": {
   "codemirror_mode": {
    "name": "ipython",
    "version": 3
   },
   "file_extension": ".py",
   "mimetype": "text/x-python",
   "name": "python",
   "nbconvert_exporter": "python",
   "pygments_lexer": "ipython3",
   "version": "3.12.1"
  }
 },
 "nbformat": 4,
 "nbformat_minor": 2
}