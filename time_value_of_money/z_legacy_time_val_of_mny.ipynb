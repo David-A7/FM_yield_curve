{
 "cells": [
  {
   "cell_type": "markdown",
   "metadata": {},
   "source": [
    "# Continuously compounded interest rates\n",
    "\n",
    "10% Annual rate corresponds to 9.531% continuously compounded rate"
   ]
  },
  {
   "cell_type": "code",
   "execution_count": null,
   "metadata": {},
   "outputs": [],
   "source": [
    "import math\n",
    "\n",
    "# 0.09531017980432493 is the continuous compounding rate\n",
    "#   corresponding to a 10% annual rate\n",
    "print (\"Continuous componding rate:  \" + \n",
    "       str(math.log(1.1))) \n",
    "\n",
    "# 1.1 is the value of 1 continuously compounded at 0.09531017980432493 for 1 year\n",
    "print (\"The AtMat of 9.531% continuously compounded over a year is:  \" +\n",
    "       str(math.exp(.09531017980432493)))\n",
    "\n",
    "# lets calculate the AtMat of 9.531% continuously compounded over 2 years\n",
    "print (\"The AtMat of 9.531% continuously compounded over 2 years is:  \" +\n",
    "       str(math.exp(.09531017980432493*2)))\n",
    "print (\"Of course this is the same as the AtMat of 10% compounded twice:  \" +\n",
    "       str(1.1*1.1))\n",
    "\n",
    "# more generally, the AtMat of 9.531% continuously compounded over n years is:\n",
    "n = .5\n",
    "print (\"The AtMat of 9.531% continuously compounded over \" + str(n) + \" years is:  \" +\n",
    "       str(math.exp(.09531017980432493*n)))\n"
   ]
  },
  {
   "cell_type": "markdown",
   "metadata": {},
   "source": [
    "Notice that you can simply multiply the continuously compounded rate by time"
   ]
  },
  {
   "cell_type": "markdown",
   "metadata": {},
   "source": [
    "# Exponential Interpolation Demonstration\n",
    "\n",
    "The following section demonstrates exponential interpolation, which is a key technique in yield curve construction. This method is particularly suitable for interest rates because:\n",
    "\n",
    "1. It preserves the positivity of rates\n",
    "2. It reflects the compound growth nature of interest rates\n",
    "3. It provides smooth and continuous interpolation between known points\n",
    "\n",
    "Below, we'll first implement the interpolation manually to understand the process, then use our implemented function from the yield_curve module."
   ]
  },
  {
   "cell_type": "code",
   "execution_count": null,
   "metadata": {},
   "outputs": [],
   "source": [
    "# Exponential interpolation demonstration\n",
    "# We'll interpolate between two known points (x1,y1) and (x2,y2)\n",
    "# to find a value y at point x\n",
    "\n",
    "x1 = 1\n",
    "x2 = 2\n",
    "y1 = 1.1    # Amount at maturity after 1 year\n",
    "y2 = 1.21   # Amount at maturity after 2 years\n",
    "x = 1.5     # Target interpolation point\n",
    "\n",
    "# Calculate continuous compounding interest rate between y1 and y2\n",
    "# Using the formula: r = ln(y2/y1)/(x2-x1)\n",
    "rate = math.log(y2 / y1) / (x2 - x1)\n",
    "print(\"Continuous compounding rate is: \" + str(rate)) \n",
    "\n",
    "# Calculate the interpolated y value at point x\n",
    "# Using the formula: y = y1 * exp(r * (x - x1))\n",
    "y = y1 * math.exp(rate * (x - x1))\n",
    "\n",
    "print(\"The Amount at Maturity at \" + str(x) + \" is \" + str(y))\n"
   ]
  },
  {
   "cell_type": "markdown",
   "metadata": {},
   "source": [
    "## Using the Implemented Interpolation Function\n",
    "\n",
    "Now we'll use our implemented `exp_interp` function from the yield_curve module to perform the same interpolation. This function:\n",
    "1. Takes arrays of x and y values, plus the target x value\n",
    "2. Finds the appropriate interval for interpolation\n",
    "3. Applies exponential interpolation using the same methodology as above\n",
    "4. Handles edge cases and error conditions"
   ]
  },
  {
   "cell_type": "code",
   "execution_count": null,
   "metadata": {},
   "outputs": [],
   "source": [
    "# Demonstrate exp_interp function usage\n",
    "\n",
    "from yield_curve import exp_interp\n",
    "\n",
    "xs = [0, 1, 2]           # Maturities\n",
    "ys = [1, 1.1, 1.21]      # Amounts at maturity\n",
    "x = 1.5                  # Target maturity\n",
    "\n",
    "interpolated_y = exp_interp(xs, ys, x)\n",
    "print(\"Interpolated y:\", interpolated_y)"
   ]
  }
 ],
 "metadata": {
  "kernelspec": {
   "display_name": "Python 3",
   "language": "python",
   "name": "python3"
  },
  "language_info": {
   "codemirror_mode": {
    "name": "ipython",
    "version": 3
   },
   "file_extension": ".py",
   "mimetype": "text/x-python",
   "name": "python",
   "nbconvert_exporter": "python",
   "pygments_lexer": "ipython3",
   "version": "3.12.1"
  }
 },
 "nbformat": 4,
 "nbformat_minor": 2
}
