{
 "cells": [
  {
   "cell_type": "markdown",
   "id": "f8e68ff7",
   "metadata": {},
   "source": [
    "---\n",
    "# Tutorial Task: Create a Forward Bank Bill Class #\n",
    "---\n",
    "In this tutorial, you will use the Bank Bill and Bond classes to create a Forward Bank Bill class.\n",
    "\n",
    "### Step 1:\n",
    "\n",
    "Create some bank bill and bond instruments.\n",
    "\n",
    "### Step 2:\n",
    "\n",
    "Create a yield curve using these instruments.\n",
    "\n",
    "### Step 3:\n",
    "\n",
    "Design a new Forward Bank Bill class which inherits from the Bank Bill class and uses the yield curve to give an arbitrage-free yield.\n",
    "\n",
    "---"
   ]
  },
  {
   "cell_type": "markdown",
   "id": "7d1c4eb1",
   "metadata": {},
   "source": [
    "### Step 0:\n",
    "\n",
    "Import pre-existing classes"
   ]
  },
  {
   "cell_type": "code",
   "execution_count": 6,
   "id": "a29772d4",
   "metadata": {},
   "outputs": [],
   "source": [
    "import sys\n",
    "sys.path.append('..')  # Add the parent directory to the system path\n",
    "from instrument_classes import Bank_bill, Bond, Portfolio\n",
    "from curve_classes_and_functions import ZeroCurve, YieldCurve"
   ]
  },
  {
   "cell_type": "markdown",
   "id": "d0bfc6af",
   "metadata": {},
   "source": [
    "---\n",
    "\n",
    "### Step 1:\n",
    "\n",
    "Let's define a few bank bills and bonds."
   ]
  },
  {
   "cell_type": "code",
   "execution_count": null,
   "id": "2e44d198",
   "metadata": {},
   "outputs": [],
   "source": []
  },
  {
   "cell_type": "markdown",
   "id": "e29d39c3",
   "metadata": {},
   "source": [
    "---\n",
    "\n",
    "### Step 2:\n",
    "\n",
    "Now we can use the Portfolio class to aggregate the instruments that we have created. Then we pass the portfolio to the YieldCurve class to bootstrap a yield curve."
   ]
  },
  {
   "cell_type": "code",
   "execution_count": null,
   "id": "3ae0c648",
   "metadata": {},
   "outputs": [],
   "source": []
  },
  {
   "cell_type": "markdown",
   "id": "db1c8205",
   "metadata": {},
   "source": [
    "---\n",
    "\n",
    "### Step 3:\n",
    "\n",
    "Now let's try creating our own class. This will be a Forward Bank Bill class, and will have the ability to price a forward bank bill."
   ]
  },
  {
   "cell_type": "code",
   "execution_count": null,
   "id": "95e95e4d",
   "metadata": {},
   "outputs": [],
   "source": []
  }
 ],
 "metadata": {
  "kernelspec": {
   "display_name": ".venv",
   "language": "python",
   "name": "python3"
  },
  "language_info": {
   "codemirror_mode": {
    "name": "ipython",
    "version": 3
   },
   "file_extension": ".py",
   "mimetype": "text/x-python",
   "name": "python",
   "nbconvert_exporter": "python",
   "pygments_lexer": "ipython3",
   "version": "3.12.1"
  }
 },
 "nbformat": 4,
 "nbformat_minor": 5
}
