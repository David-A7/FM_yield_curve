{
 "cells": [
  {
   "cell_type": "markdown",
   "id": "f8e68ff7",
   "metadata": {},
   "source": [
    "---\n",
    "# Tutorial Task: Create a Forward Bank Bill Class #\n",
    "---\n",
    "In this tutorial, you will use the Bank Bill and Bond classes to create a Forward Bank Bill class.\n",
    "\n",
    "### Step 1:\n",
    "\n",
    "Create some bank bill and bond instruments.\n",
    "\n",
    "### Step 2:\n",
    "\n",
    "Create a yield curve using these instruments.\n",
    "\n",
    "### Step 3:\n",
    "\n",
    "Design a new Forward Bank Bill class which inherits from the Bank Bill class and uses the yield curve to give an arbitrage-free yield.\n",
    "\n",
    "---"
   ]
  },
  {
   "cell_type": "markdown",
   "id": "7d1c4eb1",
   "metadata": {},
   "source": [
    "### Step 0:\n",
    "\n",
    "Import pre-existing classes"
   ]
  },
  {
   "cell_type": "code",
   "execution_count": 6,
   "id": "a29772d4",
   "metadata": {},
   "outputs": [],
   "source": [
    "import sys\n",
    "sys.path.append('..')  # Add the parent directory to the system path\n",
    "from instrument_classes import Bank_bill, Bond, Portfolio\n",
    "from curve_classes_and_functions import ZeroCurve, YieldCurve"
   ]
  },
  {
   "cell_type": "markdown",
   "id": "d0bfc6af",
   "metadata": {},
   "source": [
    "---\n",
    "\n",
    "### Step 1:\n",
    "\n",
    "Let's define a few bank bills and bonds."
   ]
  },
  {
   "cell_type": "code",
   "execution_count": 28,
   "id": "2e44d198",
   "metadata": {},
   "outputs": [],
   "source": [
    "bill1 = Bank_bill(maturity=0.25)\n",
    "bill1.set_ytm(0.06)\n",
    "bill1.set_cash_flows()\n",
    "\n",
    "bill2 = Bank_bill(maturity=0.5)\n",
    "bill2.set_ytm(0.065)\n",
    "bill2.set_cash_flows()\n",
    "\n",
    "bond1 = Bond(face_value=100, maturity=1, coupon=0.05, frequency=2)\n",
    "bond1.set_ytm(0.07)\n",
    "bond1.set_cash_flows()\n",
    "\n",
    "bond2 = Bond(face_value=100, maturity=2, coupon=0.06, frequency=1)\n",
    "bond2.set_ytm(0.075)\n",
    "bond2.set_cash_flows()"
   ]
  },
  {
   "cell_type": "markdown",
   "id": "e29d39c3",
   "metadata": {},
   "source": [
    "---\n",
    "\n",
    "### Step 2:\n",
    "\n",
    "Now we can use the Portfolio class to aggregate the instruments that we have created. Then we pass the portfolio to the YieldCurve class to bootstrap a yield curve."
   ]
  },
  {
   "cell_type": "code",
   "execution_count": 29,
   "id": "3ae0c648",
   "metadata": {},
   "outputs": [
    {
     "name": "stdout",
     "output_type": "stream",
     "text": [
      "Portfolio Cash Flows:\n",
      "[(0, -98.10030572475438), (0.5, 2.5), (1, 102.5), (0, -97.30665224445646), (1.0, 6.0), (2, 106.0), (0, -98.52216748768474), (0.25, 100), (0, -96.85230024213075), (0.5, 100)]\n",
      "PV of all the cashflows except maturity is:  2.4213075060532687\n",
      "The bond price is:  98.10030572475438\n",
      "The last cashflow is:  102.5\n",
      "PV of all the cashflows except maturity is:  5.600721846948358\n",
      "The bond price is:  97.30665224445646\n",
      "The last cashflow is:  106.0\n",
      "Zero Curve:\n",
      "([0, 0.25, 0.5, 1, 2], [1.0, 0.9852216748768474, 0.9685230024213075, 0.9334536411580596, 0.8651502867689443])\n"
     ]
    }
   ],
   "source": [
    "portfolio = Portfolio()\n",
    "portfolio.add_bank_bill(bill1)\n",
    "portfolio.add_bank_bill(bill2)\n",
    "portfolio.add_bond(bond1)\n",
    "portfolio.add_bond(bond2)\n",
    "portfolio.set_cash_flows()\n",
    "print(\"Portfolio Cash Flows:\")\n",
    "print(portfolio.get_cash_flows())\n",
    "\n",
    "yc = YieldCurve()\n",
    "yc.set_constituent_portfolio(portfolio)\n",
    "yc.bootstrap()\n",
    "print(\"Zero Curve:\")\n",
    "print(yc.get_zero_curve())\n"
   ]
  },
  {
   "cell_type": "markdown",
   "id": "db1c8205",
   "metadata": {},
   "source": [
    "---\n",
    "\n",
    "### Step 3:\n",
    "\n",
    "Now let's try creating our own class. This will be a Forward Bank Bill class, and will have the ability to price a forward bank bill."
   ]
  },
  {
   "cell_type": "code",
   "execution_count": null,
   "id": "95e95e4d",
   "metadata": {},
   "outputs": [],
   "source": [
    "class ForwardBankBill(Bank_bill):\n",
    "    \"\"\"\n",
    "    Forward on a bank bill from time T1 to T2.\n",
    "    \"\"\"\n",
    "\n",
    "    def __init__(self, start, maturity, face_value=100.0):\n",
    "        super().__init__(face_value=face_value, maturity=maturity, ytm=0.0, price=0.0)\n",
    "        self.start = start\n",
    "        self.maturity = maturity\n",
    "        self.term = maturity - start\n",
    "        self.price = None\n",
    "        self.ytm = None\n",
    "    \n",
    "    def set_fair_yield(self, yield_curve: YieldCurve) -> None:\n",
    "        \"\"\"\n",
    "        Set the price and yield of the forward bank bill.\n",
    "        \"\"\"\n",
    "        df1 = yield_curve.get_discount_factor(self.start)\n",
    "        df2 = yield_curve.get_discount_factor(self.maturity)\n",
    "\n",
    "        self.price = self.face_value * (df2 / df1)\n",
    "        self.ytm = (self.face_value - self.price) / (self.face_value * self.term)\n",
    "\n",
    "    def get_price(self) -> float:\n",
    "        \"\"\"\n",
    "        Get the price of the forward bank bill.\n",
    "        \"\"\"\n",
    "        return self.price\n",
    "    \n",
    "    def get_yield(self) -> float:\n",
    "        \"\"\"\n",
    "        Get the yield of the forward bank bill.\n",
    "        \"\"\"\n",
    "        return self.ytm\n"
   ]
  },
  {
   "cell_type": "code",
   "execution_count": null,
   "id": "8e69e82f",
   "metadata": {},
   "outputs": [
    {
     "name": "stdout",
     "output_type": "stream",
     "text": [
      "Forward yield: 0.0731\n",
      "Forward price: 98.17\n"
     ]
    }
   ],
   "source": [
    "fwd = ForwardBankBill(start=0.5, maturity=0.75, face_value=100)\n",
    "fwd.set_fair_yield(yc)\n",
    "print(f\"Forward yield: {fwd.get_yield():.4f}\")\n",
    "print(f\"Forward price: {fwd.get_price():.2f}\")\n"
   ]
  }
 ],
 "metadata": {
  "kernelspec": {
   "display_name": ".venv",
   "language": "python",
   "name": "python3"
  },
  "language_info": {
   "codemirror_mode": {
    "name": "ipython",
    "version": 3
   },
   "file_extension": ".py",
   "mimetype": "text/x-python",
   "name": "python",
   "nbconvert_exporter": "python",
   "pygments_lexer": "ipython3",
   "version": "3.12.1"
  }
 },
 "nbformat": 4,
 "nbformat_minor": 5
}
