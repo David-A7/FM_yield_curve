{
  "cells": [
    {
      "cell_type": "markdown",
      "metadata": {},
      "source": [
        "# A Beginner's Introduction to Object-Oriented Programming\n",
        "\n",
        "This notebook provides a gentle introduction to object-oriented programming (OOP) concepts using simple animal examples."
      ]
    },
    {
      "cell_type": "markdown",
      "metadata": {},
      "source": [
        "## What is Object-Oriented Programming?\n",
        "\n",
        "Object-Oriented Programming is a programming paradigm based on the concept of 'objects', which are data structures that contain:\n",
        "\n",
        "1. **Data** (called attributes or properties)\n",
        "2. **Code** (called methods)\n",
        "\n",
        "Think of objects as things from the real world. A dog has characteristics (color, breed, age) and behaviors (bark, run, eat). In OOP, we model these real-world entities as software objects."
      ]
    },
    {
      "cell_type": "markdown",
      "metadata": {},
      "source": [
        "## Classes: The Blueprints for Objects\n",
        "\n",
        "A class is like a blueprint for creating objects. Let's create a simple Animal class:"
      ]
    },
    {
      "cell_type": "code",
      "execution_count": null,
      "metadata": {},
      "outputs": [],
      "source": [
        "class Animal:\n",
        "    def __init__(self, name, age):\n",
        "        self.name = name  # An attribute\n",
        "        self.age = age    # Another attribute\n",
        "    \n",
        "    def eat(self):\n",
        "        return f\"{self.name} is eating.\"\n",
        "    \n",
        "    def sleep(self):\n",
        "        return f\"{self.name} is sleeping.\"\n",
        "    \n",
        "    def make_sound(self):\n",
        "        return f\"{self.name} makes a generic animal sound.\""
      ]
    },
    {
      "cell_type": "markdown",
      "metadata": {},
      "source": [
        "Let's break down what's happening in this class:\n",
        "\n",
        "- `__init__` is a special method (constructor) that initializes a new Animal object\n",
        "- `self` refers to the instance of the object being created or manipulated\n",
        "- `name` and `age` are attributes that store data\n",
        "- `eat()`, `sleep()`, and `make_sound()` are methods that define behaviors"
      ]
    },
    {
      "cell_type": "markdown",
      "metadata": {},
      "source": [
        "## Creating Objects (Instances)\n",
        "\n",
        "Let's create an animal object from our class:"
      ]
    },
    {
      "cell_type": "code",
      "execution_count": null,
      "metadata": {},
      "outputs": [],
      "source": [
        "# Create an animal object\n",
        "generic_animal = Animal(name=\"Creature\", age=5)\n",
        "\n",
        "# Access its attributes\n",
        "print(f\"Animal name: {generic_animal.name}\")\n",
        "print(f\"Animal age: {generic_animal.age}\")\n",
        "\n",
        "# Call its methods\n",
        "print(generic_animal.eat())\n",
        "print(generic_animal.sleep())\n",
        "print(generic_animal.make_sound())"
      ]
    },
    {
      "cell_type": "markdown",
      "metadata": {},
      "source": [
        "## Inheritance: Creating Specialized Classes\n",
        "\n",
        "Inheritance allows us to create new classes based on existing ones. Let's create Dog and Cat classes that inherit from Animal:"
      ]
    },
    {
      "cell_type": "code",
      "execution_count": null,
      "metadata": {},
      "outputs": [],
      "source": [
        "class Dog(Animal):  # Dog inherits from Animal\n",
        "    def __init__(self, name, age, breed):\n",
        "        # Call the parent class's __init__ method\n",
        "        super().__init__(name, age)\n",
        "        # Add a new attribute specific to dogs\n",
        "        self.breed = breed\n",
        "    \n",
        "    # Override the make_sound method\n",
        "    def make_sound(self):\n",
        "        return f\"{self.name} barks: Woof! Woof!\"\n",
        "    \n",
        "    # Add a new method specific to dogs\n",
        "    def fetch(self):\n",
        "        return f\"{self.name} is fetching the ball!\""
      ]
    },
    {
      "cell_type": "code",
      "execution_count": null,
      "metadata": {},
      "outputs": [],
      "source": [
        "class Cat(Animal):  # Cat inherits from Animal\n",
        "    def __init__(self, name, age, color):\n",
        "        # Call the parent class's __init__ method\n",
        "        super().__init__(name, age)\n",
        "        # Add a new attribute specific to cats\n",
        "        self.color = color\n",
        "    \n",
        "    # Override the make_sound method\n",
        "    def make_sound(self):\n",
        "        return f\"{self.name} meows: Meow! Meow!\"\n",
        "    \n",
        "    # Add a new method specific to cats\n",
        "    def scratch(self):\n",
        "        return f\"{self.name} is scratching the furniture!\""
      ]
    },
    {
      "cell_type": "markdown",
      "metadata": {},
      "source": [
        "Here's what's happening in these classes:\n",
        "\n",
        "1. Both `Dog` and `Cat` inherit from `Animal` (indicated by the class name in parentheses)\n",
        "2. Both call `super().__init__(name, age)` to initialize the attributes from the parent class\n",
        "3. Each adds its own unique attribute (`breed` for Dog, `color` for Cat)\n",
        "4. Each **overrides** the `make_sound()` method with its own specific implementation\n",
        "5. Each adds a unique method (`fetch()` for Dog, `scratch()` for Cat)"
      ]
    },
    {
      "cell_type": "markdown",
      "metadata": {},
      "source": [
        "## Using Our Classes\n",
        "\n",
        "Let's create instances of our Dog and Cat classes and see how they work:"
      ]
    },
    {
      "cell_type": "code",
      "execution_count": null,
      "metadata": {},
      "outputs": [],
      "source": [
        "# Create a dog\n",
        "buddy = Dog(name=\"Buddy\", age=3, breed=\"Golden Retriever\")\n",
        "\n",
        "# Create a cat\n",
        "whiskers = Cat(name=\"Whiskers\", age=2, color=\"Gray\")\n",
        "\n",
        "# Let's see what we can do with our animals\n",
        "print(buddy.name, \"is a\", buddy.breed)\n",
        "print(whiskers.name, \"is\", whiskers.color)\n",
        "\n",
        "# Inherited methods work for both\n",
        "print(buddy.eat())\n",
        "print(whiskers.sleep())\n",
        "\n",
        "# Each animal makes its own sound (polymorphism)\n",
        "print(buddy.make_sound())\n",
        "print(whiskers.make_sound())\n",
        "\n",
        "# Special behaviors\n",
        "print(buddy.fetch())\n",
        "print(whiskers.scratch())"
      ]
    },
    {
      "cell_type": "markdown",
      "metadata": {},
      "source": [
        "## Key OOP Concepts Demonstrated\n",
        "\n",
        "Let's review the key OOP concepts we've covered:\n",
        "\n",
        "1. **Classes and Objects**\n",
        "   - `Animal`, `Dog`, and `Cat` are classes (blueprints)\n",
        "   - `generic_animal`, `buddy`, and `whiskers` are objects (instances)\n",
        "\n",
        "2. **Attributes**\n",
        "   - Data stored in objects: `name`, `age`, `breed`, `color`\n",
        "\n",
        "3. **Methods**\n",
        "   - Functions attached to objects: `eat()`, `sleep()`, `make_sound()`, `fetch()`, `scratch()`\n",
        "\n",
        "4. **Inheritance**\n",
        "   - `Dog` and `Cat` inherit attributes and methods from `Animal`\n",
        "\n",
        "5. **Method Overriding**\n",
        "   - `Dog` and `Cat` provide their own versions of `make_sound()`\n",
        "\n",
        "6. **Polymorphism**\n",
        "   - `make_sound()` behaves differently depending on the type of animal"
      ]
    },
    {
      "cell_type": "markdown",
      "metadata": {},
      "source": [
        "## A More Complex Example: Pet Shop\n",
        "\n",
        "Let's create a `PetShop` class that uses composition (containing other objects):"
      ]
    },
    {
      "cell_type": "code",
      "execution_count": null,
      "metadata": {},
      "outputs": [],
      "source": [
        "class PetShop:\n",
        "    def __init__(self, name):\n",
        "        self.name = name\n",
        "        self.animals = []  # List to store animal objects\n",
        "    \n",
        "    def add_animal(self, animal):\n",
        "        self.animals.append(animal)\n",
        "        return f\"{animal.name} has been added to {self.name}\"\n",
        "    \n",
        "    def list_animals(self):\n",
        "        if not self.animals:\n",
        "            return f\"{self.name} has no animals.\"\n",
        "        \n",
        "        result = f\"Animals at {self.name}:\"\n",
        "        for animal in self.animals:\n",
        "            # Check what type of animal this is\n",
        "            if isinstance(animal, Dog):\n",
        "                animal_type = f\"Dog ({animal.breed})\"\n",
        "            elif isinstance(animal, Cat):\n",
        "                animal_type = f\"Cat ({animal.color})\"\n",
        "            else:\n",
        "                animal_type = \"Unknown animal\"\n",
        "                \n",
        "            result += f\"\n- {animal.name}: {animal_type}, Age: {animal.age}\"\n",
        "        \n",
        "        return result\n",
        "    \n",
        "    def make_all_sounds(self):\n",
        "        result = f\"Animal sounds at {self.name}:\"\n",
        "        for animal in self.animals:\n",
        "            result += f\"\n{animal.make_sound()}\"\n",
        "        return result"
      ]
    },
    {
      "cell_type": "markdown",
      "metadata": {},
      "source": [
        "Now let's use our `PetShop` class:"
      ]
    },
    {
      "cell_type": "code",
      "execution_count": null,
      "metadata": {},
      "outputs": [],
      "source": [
        "# Create a pet shop\n",
        "pet_palace = PetShop(name=\"Pet Palace\")\n",
        "\n",
        "# Add some animals\n",
        "print(pet_palace.add_animal(buddy))\n",
        "print(pet_palace.add_animal(whiskers))\n",
        "print(pet_palace.add_animal(Dog(name=\"Rex\", age=5, breed=\"German Shepherd\")))\n",
        "print(pet_palace.add_animal(Cat(name=\"Felix\", age=1, color=\"Black\")))\n",
        "\n",
        "# List all animals\n",
        "print(\"\n\" + pet_palace.list_animals())\n",
        "\n",
        "# Make all animals sound off\n",
        "print(\"\n\" + pet_palace.make_all_sounds())"
      ]
    },
    {
      "cell_type": "markdown",
      "metadata": {},
      "source": [
        "## Summary: Why OOP is Useful\n",
        "\n",
        "Object-Oriented Programming helps us:  \n",
        "\n",
        "1. **Organize code** around real-world concepts (dogs, cats, pet shops)\n",
        "\n",
        "2. **Reuse code** through inheritance (dogs and cats inherit animal behaviors)\n",
        "\n",
        "3. **Hide complexity** through encapsulation (don't need to know how dogs bark internally)\n",
        "\n",
        "4. **Model relationships** between entities (pet shops contain animals)\n",
        "\n",
        "5. **Build maintainable systems** that can grow without becoming unwieldy\n",
        "\n",
        "As you practice OOP more, you'll develop an intuition for when and how to create classes to model your problem domain."
      ]
    },
    {
      "cell_type": "markdown",
      "metadata": {},
      "source": [
        "## Next Steps\n",
        "\n",
        "To continue learning about OOP, you might explore:\n",
        "\n",
        "1. **Encapsulation** - Using private attributes and properties\n",
        "2. **Abstract classes** - Classes that can't be instantiated directly\n",
        "3. **Interfaces** - Defining contracts that classes must implement\n",
        "4. **Design patterns** - Common solutions to recurring design problems\n",
        "\n",
        "The animal examples here are simple, but the same principles apply to more complex domains like financial modeling (as seen in the FM_yield_curve repository)."
      ]
    }
  ],
  "metadata": {
    "kernelspec": {
      "display_name": "Python 3",
      "language": "python",
      "name": "python3"
    },
    "language_info": {
      "codemirror_mode": {
        "name": "ipython",
        "version": 3
      },
      "file_extension": ".py",
      "mimetype": "text/x-python",
      "name": "python",
      "nbconvert_exporter": "python",
      "pygments_lexer": "ipython3",
      "version": "3.8.10"
    }
  },
  "nbformat": 4,
  "nbformat_minor": 4
}