{
 "cells": [
  {
   "cell_type": "markdown",
   "metadata": {},
   "source": [
    "# Time Value of Money: Introduction to Compounding Frequency"
   ]
  },
  {
   "cell_type": "markdown",
   "metadata": {},
   "source": [
    "## 1. Introduction to Compounding Frequency\n",
    "\n",
    "Interest rates can be expressed with different compounding frequencies:\n",
    "- Annual (once per year)\n",
    "- Semi-annual (twice per year)\n",
    "- Quarterly (four times per year)\n",
    "- Monthly (twelve times per year)\n",
    "- Daily (365 times per year)\n",
    "- Continuous (infinitely many times per year)\n",
    "\n",
    "The compounding frequency affects the effective interest earned over time."
   ]
  },
  {
   "cell_type": "markdown",
   "metadata": {},
   "source": [
    "### Mathematical Formulations\n",
    "\n",
    "**Discrete compounding** with $n$ periods per year:\n",
    "$$FV = PV \\cdot \\left(1 + \\frac{r}{n}\\right)^{n \\cdot t}$$\n",
    "\n",
    "**Continuous compounding**:\n",
    "$$FV = PV \\cdot e^{r \\cdot t}$$\n",
    "\n",
    "where $FV$ is future value, $PV$ is present value, $r$ is the annual rate, and $t$ is time in years."
   ]
  },
  {
   "cell_type": "code",
   "execution_count": null,
   "metadata": {},
   "outputs": [],
   "source": [
    "import math\n",
    "import numpy as np\n",
    "import matplotlib.pyplot as plt\n",
    "\n",
    "# Parameters\n",
    "principal = 1000.0  # Initial investment\n",
    "r_annual = 0.05     # 5% annual rate\n",
    "time = 1.0          # 1 year period\n",
    "\n",
    "# Compare different compounding frequencies\n",
    "frequencies = [1, 2, 4, 12, 365, 'continuous']\n",
    "labels = ['Annual', 'Semi-annual', 'Quarterly', 'Monthly', 'Daily', 'Continuous']\n",
    "\n",
    "for i, n in enumerate(frequencies):\n",
    "    if n == 'continuous':\n",
    "        fv = principal * math.exp(r_annual * time)\n",
    "    else:\n",
    "        fv = principal * (1 + r_annual/n)**(n*time)\n",
    "    print(f\"{labels[i]}: ${fv:.2f} (Yield: {(fv/principal-1)*100:.4f}%)\")"
   ]
  },
  {
   "cell_type": "markdown",
   "metadata": {},
   "source": [
    "### Visualizing the Effect of Compounding Frequency"
   ]
  },
  {
   "cell_type": "code",
   "execution_count": null,
   "metadata": {},
   "outputs": [],
   "source": [
    "# Create a range of compounding frequencies for plotting\n",
    "n_values = np.logspace(0, 6, 1000)  # From 1 to 1 million periods per year\n",
    "fv_values = [principal * (1 + r_annual/n)**(n*time) for n in n_values]\n",
    "fv_continuous = principal * math.exp(r_annual * time)\n",
    "\n",
    "plt.figure(figsize=(10, 6))\n",
    "plt.semilogx(n_values, fv_values, 'b-', linewidth=2)\n",
    "plt.axhline(y=fv_continuous, color='r', linestyle='--', \n",
    "           label=f'Continuous limit: ${fv_continuous:.2f}')\n",
    "\n",
    "# Mark specific frequencies\n",
    "specific_n = [1, 2, 4, 12, 365]\n",
    "specific_labels = ['Annual', 'Semi-annual', 'Quarterly', 'Monthly', 'Daily']\n",
    "specific_fv = [principal * (1 + r_annual/n)**(n*time) for n in specific_n]\n",
    "plt.scatter(specific_n, specific_fv, color='green', s=80)\n",
    "\n",
    "for i, (n, fv, label) in enumerate(zip(specific_n, specific_fv, specific_labels)):\n",
    "    plt.annotate(label, (n, fv), xytext=(5, 5), textcoords='offset points')\n",
    "\n",
    "plt.xlabel('Number of compounding periods per year (log scale)')\n",
    "plt.ylabel('Future Value ($)')\n",
    "plt.title('Effect of Compounding Frequency on Future Value')\n",
    "plt.grid(True, alpha=0.3)\n",
    "plt.legend()\n",
    "plt.tight_layout()\n",
    "plt.show()"
   ]
  },
  {
   "cell_type": "markdown",
   "metadata": {},
   "source": [
    "### Converting Between Compounding Frequencies\n",
    "\n",
    "To compare rates with different compounding frequencies, we use the **effective annual rate (EAR)**:\n",
    "\n",
    "For discrete compounding: $EAR = \\left(1 + \\frac{r}{n}\\right)^n - 1$\n",
    "\n",
    "For continuous compounding: $EAR = e^r - 1$"
   ]
  },
  {
   "cell_type": "code",
   "execution_count": null,
   "metadata": {},
   "outputs": [],
   "source": [
    "# Conversion functions\n",
    "def discrete_to_effective_annual(rate, n_periods):\n",
    "    return (1 + rate/n_periods)**n_periods - 1\n",
    "\n",
    "def continuous_to_effective_annual(rate):\n",
    "    return math.exp(rate) - 1\n",
    "\n",
    "def annual_to_continuous(annual_rate):\n",
    "    return math.log(1 + annual_rate)\n",
    "\n",
    "# Example: Convert 5% annual rate to continuous\n",
    "annual_rate = 0.05\n",
    "continuous_rate = annual_to_continuous(annual_rate)\n",
    "\n",
    "print(f\"5% annual rate = {continuous_rate:.6f} ({continuous_rate*100:.4f}%) continuously compounded\")\n",
    "\n",
    "# Verify by checking effective annual rates\n",
    "ear_from_annual = discrete_to_effective_annual(annual_rate, 1)\n",
    "ear_from_continuous = continuous_to_effective_annual(continuous_rate)\n",
    "\n",
    "print(f\"EAR from annual: {ear_from_annual:.6f} ({ear_from_annual*100:.4f}%)\")\n",
    "print(f\"EAR from continuous: {ear_from_continuous:.6f} ({ear_from_continuous*100:.4f}%)\")"
   ]
  },
  {
   "cell_type": "markdown",
   "metadata": {},
   "source": [
    "### Connection to Continuous Compounding\n",
    "\n",
    "Continuous compounding represents the mathematical limit of discrete compounding as the number of periods approaches infinity:\n",
    "\n",
    "$$\\lim_{n \\to \\infty} \\left(1 + \\frac{r}{n}\\right)^n = e^r$$\n",
    "\n",
    "This is why continuously compounded interest takes the form $FV = PV \\cdot e^{rt}$."
   ]
  },
  {
   "cell_type": "markdown",
   "metadata": {},
   "source": [
    "### Key Properties of Continuously Compounded Rates\n",
    "\n",
    "1. **Time additivity**: For a continuously compounded rate $r$ applied over time $t$, the future value factor is $e^{rt}$. If we need to apply different rates $r_1$ and $r_2$ over time periods $t_1$ and $t_2$, we get:\n",
    "   $e^{r_1 t_1} \\cdot e^{r_2 t_2} = e^{r_1 t_1 + r_2 t_2}$\n",
    "\n",
    "2. **Time-weighted averaging**: A continuously compounded rate for a combined period is the time-weighted average of the individual rates:\n",
    "   $r_{combined} = \\frac{r_1 t_1 + r_2 t_2}{t_1 + t_2}$\n",
    "\n",
    "3. **Exponential interpolation**: When interpolating discount factors or future value factors between known points, assuming a constant continuously compounded rate leads to exponential interpolation."
   ]
  }
 ],
 "metadata": {
  "kernelspec": {
   "display_name": "Python 3",
   "language": "python",
   "name": "python3"
  },
  "language_info": {
   "codemirror_mode": {
    "name": "ipython",
    "version": 3
   },
   "file_extension": ".py",
   "mimetype": "text/x-python",
   "name": "python",
   "nbconvert_exporter": "python",
   "pygments_lexer": "ipython3",
   "version": "3.12.1"
  }
 },
 "nbformat": 4,
 "nbformat_minor": 2
}