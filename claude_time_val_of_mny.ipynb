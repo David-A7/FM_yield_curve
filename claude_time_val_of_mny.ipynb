{
 "cells": [
  {
   "cell_type": "markdown",
   "metadata": {},
   "source": [
    "# Time Value of Money: Compounding and Continuously Compounded Rates\n",
    "## High-Level Outline\n",
    "\n",
    "This notebook will explore continuously compounded interest rates and exponential interpolation of discount factors, including their mathematical properties and practical applications."
   ]
  },
  {
   "cell_type": "markdown",
   "metadata": {},
   "source": [
    "## 1. Introduction to Compounding Frequency\n",
    "- Different types of compounding (annual, semi-annual, quarterly, daily, continuous)\n",
    "- Mathematical formulations for each\n",
    "- Converting between different compounding frequencies\n",
    "- DEMO: Calculating equivalent rates across different compounding frequencies"
   ]
  },
  {
   "cell_type": "markdown",
   "metadata": {},
   "source": [
    "## 2. Continuously Compounded Rates as a Limit Case\n",
    "- Mathematical derivation of continuous compounding as the limit of discrete compounding\n",
    "- The limit definition: $\\lim_{n \\to \\infty} (1 + \\frac{r}{n})^n = e^r$\n",
    "- Properties of continuously compounded rates\n",
    "- DEMO: Numerical verification of the limit behavior"
   ]
  },
  {
   "cell_type": "markdown",
   "metadata": {},
   "source": [
    "## 3. Time-Weighted Averages of Continuously Compounded Rates\n",
    "- Why time-weighted averages work with continuously compounded rates\n",
    "- Formula: $r = \\frac{r_1 \\cdot t_1 + r_2 \\cdot t_2}{t_1 + t_2}$\n",
    "- Proof of this property\n",
    "- DEMO: Calculating and verifying time-weighted averages"
   ]
  },
  {
   "cell_type": "markdown",
   "metadata": {},
   "source": [
    "## 4. Exponential Interpolation and Its Relationship to Continuous Compounding\n",
    "- Introduction to exponential interpolation of discount factors\n",
    "- Why exponential interpolation implies a constant continuously compounded rate\n",
    "- Mathematical formulation: $D(t) = D_1 \\cdot (\\frac{D_2}{D_1})^{\\frac{t-t_1}{t_2-t_1}}$\n",
    "- DEMO: Implementing exponential interpolation and showing its equivalence to using a continuous rate"
   ]
  },
  {
   "cell_type": "markdown",
   "metadata": {},
   "source": [
    "## 5. Discount Factors vs. At-Maturity Factors\n",
    "- Relationship between discount factors and at-maturity factors: $AtMat = \\frac{1}{DF}$\n",
    "- How exponential interpolation works with both representations\n",
    "- Advantages of each representation in different contexts\n",
    "- DEMO: Converting between the two and verifying interpolation results"
   ]
  },
  {
   "cell_type": "markdown",
   "metadata": {},
   "source": [
    "## 6. Applications in Yield Curve Construction\n",
    "- Why continuously compounded rates are preferred in yield curve modeling\n",
    "- Connection to the zero curve\n",
    "- Implementation considerations\n",
    "- Use in pricing and risk management"
   ]
  },
  {
   "cell_type": "markdown",
   "metadata": {},
   "source": [
    "## 7. Conclusion\n",
    "- Summary of key properties of continuously compounded rates\n",
    "- Advantages in financial modeling\n",
    "- Further reading and references"
   ]
  }
 ],
 "metadata": {
  "kernelspec": {
   "display_name": "Python 3",
   "language": "python",
   "name": "python3"
  },
  "language_info": {
   "codemirror_mode": {
    "name": "ipython",
    "version": 3
   },
   "file_extension": ".py",
   "mimetype": "text/x-python",
   "name": "python",
   "nbconvert_exporter": "python",
   "pygments_lexer": "ipython3",
   "version": "3.12.1"
  }
 },
 "nbformat": 4,
 "nbformat_minor": 2
}