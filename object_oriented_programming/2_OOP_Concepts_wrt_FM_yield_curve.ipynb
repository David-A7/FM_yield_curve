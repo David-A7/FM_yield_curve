{
  "cells": [
    {
      "cell_type": "markdown",
      "metadata": {},
      "source": [
        "# Object-Oriented Programming in Financial Modeling\n",
        "\n",
        "This notebook provides an outline of object-oriented programming (OOP) concepts using examples from the yield curve modeling code."
      ]
    },
    {
      "cell_type": "markdown",
      "metadata": {},
      "source": [
        "## 1. Classes as Blueprints\n",
        "\n",
        "### Core Concept\n",
        "Classes are blueprints for creating objects with specific properties and behaviors.\n",
        "\n",
        "### Example from Code"
      ]
    },
    {
      "cell_type": "code",
      "execution_count": null,
      "metadata": {},
      "outputs": [],
      "source": [
        "class CashFlows:\n",
        "    def __init__(self):\n",
        "        self.maturities = []\n",
        "        self.amounts = []"
      ]
    },
    {
      "cell_type": "markdown",
      "metadata": {},
      "source": [
        "## 2. Encapsulation: Bundling Data and Methods\n",
        "\n",
        "### Core Concept\n",
        "Encapsulation bundles data (attributes) with methods that operate on that data within a single unit.\n",
        "\n",
        "### Example from Code"
      ]
    },
    {
      "cell_type": "code",
      "execution_count": null,
      "metadata": {},
      "outputs": [],
      "source": [
        "class Bank_bill(CashFlows):\n",
        "    # Attributes\n",
        "    def __init__(self, face_value=100, maturity=.25, ytm=0.00, price=100):\n",
        "        super().__init__()\n",
        "        self.face_value = face_value\n",
        "        self.maturity = maturity\n",
        "        self.ytm = ytm\n",
        "        self.price = price\n",
        "    \n",
        "    # Methods that operate on the data\n",
        "    def set_ytm(self, ytm):\n",
        "        self.ytm = ytm\n",
        "        self.price = self.face_value/(1 + ytm*self.maturity)\n",
        "\n",
        "    def set_price(self, price):\n",
        "        self.price = price\n",
        "        self.ytm = (self.face_value/price - 1)/self.maturity"
      ]
    },
    {
      "cell_type": "markdown",
      "metadata": {},
      "source": [
        "## 3. Inheritance: Building New Classes from Existing Ones\n",
        "\n",
        "### Core Concept\n",
        "Inheritance allows a child class to inherit attributes and methods from a parent class.\n",
        "\n",
        "### Example from Code"
      ]
    },
    {
      "cell_type": "code",
      "execution_count": 1,
      "metadata": {},
      "outputs": [],
      "source": [
        "# Parent class\n",
        "class CashFlows:\n",
        "    # Base implementation\n",
        "    pass\n",
        "\n",
        "# Child class inheriting from CashFlows\n",
        "class Bond(CashFlows):\n",
        "    # Bond-specific implementation\n",
        "    pass"
      ]
    },
    {
      "cell_type": "markdown",
      "metadata": {},
      "source": [
        "## 4. Method Overriding: Customizing Inherited Behavior\n",
        "\n",
        "### Core Concept\n",
        "Child classes can provide specific implementations of methods defined in their parent classes.\n",
        "\n",
        "### Example from Code"
      ]
    },
    {
      "cell_type": "code",
      "execution_count": null,
      "metadata": {},
      "outputs": [],
      "source": [
        "# Parent class method\n",
        "class CashFlows:\n",
        "    def set_cash_flows(self):\n",
        "        # Generic implementation\n",
        "        pass\n",
        "\n",
        "# Child class overriding the method\n",
        "class Bond(CashFlows):\n",
        "    def set_cash_flows(self):\n",
        "        self.add_cash_flow(0, -self.price)\n",
        "        for i in range(1, self.maturity*self.frequency):\n",
        "            self.add_cash_flow(i/self.frequency, self.face_value*self.coupon/self.frequency)\n",
        "        self.add_cash_flow(self.maturity, self.face_value + self.face_value*self.coupon/self.frequency)"
      ]
    },
    {
      "cell_type": "markdown",
      "metadata": {},
      "source": [
        "## 5. Polymorphism: Same Interface, Different Implementations\n",
        "\n",
        "### Core Concept\n",
        "Polymorphism allows objects of different classes to be treated as objects of a common superclass.\n",
        "\n",
        "### Example from Code"
      ]
    },
    {
      "cell_type": "code",
      "execution_count": null,
      "metadata": {},
      "outputs": [],
      "source": [
        "# Portfolio using polymorphism to handle both Bond and Bank_bill objects\n",
        "class Portfolio(CashFlows):\n",
        "    def set_cash_flows(self):\n",
        "        for bond in self.bonds:\n",
        "            for cash_flow in bond.get_cash_flows():\n",
        "                self.add_cash_flow(cash_flow[0], + cash_flow[1])\n",
        "        for bank_bill in self.bank_bills:\n",
        "            for cash_flow in bank_bill.get_cash_flows():\n",
        "                self.add_cash_flow(cash_flow[0], + cash_flow[1])"
      ]
    },
    {
      "cell_type": "markdown",
      "metadata": {},
      "source": [
        "## 6. Composition: Building Complex Objects from Simpler Ones\n",
        "\n",
        "### Core Concept\n",
        "Composition involves building complex objects by combining simpler ones.\n",
        "\n",
        "### Example from Code"
      ]
    },
    {
      "cell_type": "code",
      "execution_count": null,
      "metadata": {},
      "outputs": [],
      "source": [
        "class Portfolio(CashFlows):\n",
        "    def __init__(self):\n",
        "        super().__init__()\n",
        "        self.bonds = []  # Portfolio composed of Bond objects\n",
        "        self.bank_bills = []  # and Bank_bill objects"
      ]
    },
    {
      "cell_type": "markdown",
      "metadata": {},
      "source": [
        "## 7. Abstraction: Hiding Implementation Details\n",
        "\n",
        "### Core Concept\n",
        "Abstraction hides complex implementation details and shows only the necessary features.\n",
        "\n",
        "### Example from Code"
      ]
    },
    {
      "cell_type": "code",
      "execution_count": null,
      "metadata": {},
      "outputs": [],
      "source": [
        "# Users of ZeroCurve don't need to know the interpolation details\n",
        "class ZeroCurve:\n",
        "    def get_zero_rate(self, maturity):\n",
        "        if maturity in self.maturities:\n",
        "            return self.zero_rates[self.maturities.index(maturity)]\n",
        "        else:\n",
        "            return math.log(self.get_AtMat(maturity))/maturity"
      ]
    },
    {
      "cell_type": "markdown",
      "metadata": {},
      "source": [
        "## 8. Constructor and Self Reference\n",
        "\n",
        "### Core Concept\n",
        "Constructors (`__init__`) initialize objects, and `self` refers to the instance being manipulated.\n",
        "\n",
        "### Example from Code"
      ]
    },
    {
      "cell_type": "code",
      "execution_count": null,
      "metadata": {},
      "outputs": [],
      "source": [
        "class Bond(CashFlows):\n",
        "    def __init__(self, face_value=100, maturity=3, coupon=0, frequency=4, ytm=0, price=100):\n",
        "        super().__init__()\n",
        "        self.face_value = face_value    \n",
        "        self.maturity = maturity\n",
        "        self.coupon = coupon\n",
        "        self.frequency = frequency\n",
        "        self.ytm = ytm\n",
        "        self.price = price"
      ]
    },
    {
      "cell_type": "markdown",
      "metadata": {},
      "source": [
        "## 9. Method Chaining and Fluent Interfaces\n",
        "\n",
        "### Core Concept\n",
        "Methods that return `self` enable chaining multiple operations in a single statement.\n",
        "\n",
        "### Example from Code (Potential Enhancement)"
      ]
    },
    {
      "cell_type": "code",
      "execution_count": null,
      "metadata": {},
      "outputs": [],
      "source": [
        "# Current implementation\n",
        "bond = Bond()\n",
        "bond.set_face_value(100)\n",
        "bond.set_maturity(5)\n",
        "bond.set_coupon(0.05)\n",
        "\n",
        "# Potential enhancement with method chaining\n",
        "# bond = Bond().set_face_value(100).set_maturity(5).set_coupon(0.05)\n",
        "\n",
        "# This would require modifying the setter methods to return self:\n",
        "def set_face_value(self, face_value):\n",
        "    self.face_value = face_value\n",
        "    return self  # Return self for method chaining"
      ]
    },
    {
      "cell_type": "markdown",
      "metadata": {},
      "source": [
        "## 10. Domain Modeling with OOP\n",
        "\n",
        "### Core Concept\n",
        "OOP facilitates modeling real-world financial instruments and relationships.\n",
        "\n",
        "### Example from Code"
      ]
    },
    {
      "cell_type": "markdown",
      "metadata": {},
      "source": [
        "The entire codebase demonstrates modeling financial concepts:\n",
        "- `CashFlows` represents temporal payment streams\n",
        "- `Bond` and `Bank_bill` represent specific financial instruments\n",
        "- `Portfolio` represents collections of instruments\n",
        "- `ZeroCurve` and `YieldCurve` represent interest rate term structures"
      ]
    },
    {
      "cell_type": "markdown",
      "metadata": {},
      "source": [
        "## 11. Practical Benefits of OOP in Financial Modeling\n",
        "\n",
        "1. **Modularity**: Classes like `Bond` and `Bank_bill` can be developed and tested independently\n",
        "2. **Reusability**: The inheritance hierarchy allows code reuse across financial instruments\n",
        "3. **Maintainability**: Changes to base functionality (like in `CashFlows`) propagate to all derived classes\n",
        "4. **Extensibility**: New financial instruments can be added by creating new classes\n",
        "5. **Organization**: Code is organized around financial concepts rather than procedures"
      ]
    }
  ],
  "metadata": {
    "kernelspec": {
      "display_name": "Python 3",
      "language": "python",
      "name": "python3"
    },
    "language_info": {
      "codemirror_mode": {
        "name": "ipython",
        "version": 3
      },
      "file_extension": ".py",
      "mimetype": "text/x-python",
      "name": "python",
      "nbconvert_exporter": "python",
      "pygments_lexer": "ipython3",
      "version": "3.12.1"
    }
  },
  "nbformat": 4,
  "nbformat_minor": 4
}
