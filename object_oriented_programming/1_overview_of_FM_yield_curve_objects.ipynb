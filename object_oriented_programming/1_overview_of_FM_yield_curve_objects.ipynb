{
  "cells": [
    {
      "cell_type": "markdown",
      "metadata": {},
      "source": [
        "# Overview of Financial Modeling Yield Curve Objects\n",
        "\n",
        "This notebook provides an overview of the main classes and objects used in the FM_yield_curve repository, explaining their purpose and relationships."
      ]
    },
    {
      "cell_type": "markdown",
      "metadata": {},
      "source": [
        "## Class Hierarchy Overview\n",
        "\n",
        "The FM_yield_curve repository implements a structured, object-oriented approach to modeling financial instruments and yield curves. Here's a visual representation of the class hierarchy:\n",
        "\n",
        "```\n",
        "CashFlows\n",
        "├── Bank_bill\n",
        "├── Bond\n",
        "└── Portfolio\n",
        "\n",
        "ZeroCurve\n",
        "└── YieldCurve\n",
        "```\n",
        "\n",
        "Let's explore each class in detail."
      ]
    },
    {
      "cell_type": "markdown",
      "metadata": {},
      "source": [
        "## 1. CashFlows Class\n",
        "\n",
        "**Purpose**: The fundamental base class that represents a series of cash flows occurring at specific points in time (maturities).\n",
        "\n",
        "**Key Attributes**:\n",
        "- `maturities`: List of time points when cash flows occur\n",
        "- `amounts`: List of cash flow amounts (corresponding to each maturity)\n",
        "\n",
        "**Key Methods**:\n",
        "- `add_cash_flow(maturity, amount)`: Adds a new cash flow\n",
        "- `get_cash_flow(maturity)`: Retrieves a specific cash flow amount\n",
        "- `get_maturities()`, `get_amounts()`, `get_cash_flows()`: Retrieve cash flow data\n",
        "\n",
        "**Role in the System**: Serves as the foundation for all financial instruments that have temporal payment structures."
      ]
    },
    {
      "cell_type": "markdown",
      "metadata": {},
      "source": [
        "## 2. Bank_bill Class\n",
        "\n",
        "**Purpose**: Represents a short-term debt instrument (like a T-bill) with a single payment at maturity.\n",
        "\n",
        "**Inheritance**: Inherits from `CashFlows`\n",
        "\n",
        "**Key Attributes**:\n",
        "- `face_value`: The nominal amount paid at maturity\n",
        "- `maturity`: Time until payment (in years)\n",
        "- `ytm`: Yield to maturity (annualized return)\n",
        "- `price`: Current market price\n",
        "\n",
        "**Key Methods**:\n",
        "- Setters and getters for all attributes\n",
        "- `set_ytm(ytm)`: Sets yield and recalculates price\n",
        "- `set_price(price)`: Sets price and recalculates yield\n",
        "- `set_cash_flows()`: Configures the cash flow structure (initial -price, final +face_value)\n",
        "\n",
        "**Role in the System**: Used for modeling short-term rates and as building blocks for bootstrapping the short end of yield curves."
      ]
    },
    {
      "cell_type": "markdown",
      "metadata": {},
      "source": [
        "## 3. Bond Class\n",
        "\n",
        "**Purpose**: Represents a fixed-income security with periodic coupon payments and return of principal at maturity.\n",
        "\n",
        "**Inheritance**: Inherits from `CashFlows`\n",
        "\n",
        "**Key Attributes**:\n",
        "- `face_value`: The nominal amount paid at maturity\n",
        "- `maturity`: Time until final payment (in years)\n",
        "- `coupon`: Annual coupon rate as a decimal (e.g., 0.05 for 5%)\n",
        "- `frequency`: Number of coupon payments per year\n",
        "- `ytm`: Yield to maturity\n",
        "- `price`: Current market price\n",
        "\n",
        "**Key Methods**:\n",
        "- Setters and getters for all attributes\n",
        "- `set_ytm(ytm)`: Sets yield and recalculates price using bond pricing formula\n",
        "- `set_cash_flows()`: Configures the cash flow structure (initial -price, periodic coupons, final principal+coupon)\n",
        "\n",
        "**Role in the System**: Used for modeling medium to long-term interest rates and as building blocks for constructing yield curves beyond the short-term segment."
      ]
    },
    {
      "cell_type": "markdown",
      "metadata": {},
      "source": [
        "## 4. Portfolio Class\n",
        "\n",
        "**Purpose**: Represents a collection of financial instruments (Bonds and Bank_bills).\n",
        "\n",
        "**Inheritance**: Inherits from `CashFlows`\n",
        "\n",
        "**Key Attributes**:\n",
        "- `bonds`: List of Bond objects\n",
        "- `bank_bills`: List of Bank_bill objects\n",
        "\n",
        "**Key Methods**:\n",
        "- `add_bond(bond)`: Adds a Bond to the portfolio\n",
        "- `add_bank_bill(bank_bill)`: Adds a Bank_bill to the portfolio\n",
        "- `get_bonds()`, `get_bank_bills()`: Retrieve portfolio components\n",
        "- `set_cash_flows()`: Aggregates all cash flows from contained instruments\n",
        "\n",
        "**Role in the System**: Acts as a container for instruments and can consolidate cash flows across different securities. Used by the YieldCurve class for bootstrapping."
      ]
    },
    {
      "cell_type": "markdown",
      "metadata": {},
      "source": [
        "## 5. ZeroCurve Class\n",
        "\n",
        "**Purpose**: Represents a zero-coupon yield curve, which maps maturities to interest rates.\n",
        "\n",
        "**Key Attributes**:\n",
        "- `maturities`: List of time points\n",
        "- `zero_rates`: Corresponding zero-coupon interest rates\n",
        "- `AtMats`: Accumulation factors at different maturities\n",
        "- `discount_factors`: Discount factors for each maturity\n",
        "\n",
        "**Key Methods**:\n",
        "- `add_zero_rate(maturity, zero_rate)`: Adds a zero rate and calculates corresponding values\n",
        "- `add_discount_factor(maturity, discount_factor)`: Adds a discount factor and calculates corresponding values\n",
        "- `get_AtMat(maturity)`, `get_discount_factor(maturity)`, `get_zero_rate(maturity)`: Retrieval methods with interpolation for non-explicit maturities\n",
        "- `npv(cash_flows)`: Calculates net present value of a CashFlows object\n",
        "\n",
        "**Role in the System**: Provides the term structure of interest rates and tools for discounting future cash flows to present value."
      ]
    },
    {
      "cell_type": "markdown",
      "metadata": {},
      "source": [
        "## 6. YieldCurve Class\n",
        "\n",
        "**Purpose**: Extends ZeroCurve with bootstrapping capability to construct a yield curve from market instruments.\n",
        "\n",
        "**Inheritance**: Inherits from `ZeroCurve`\n",
        "\n",
        "**Key Attributes**:\n",
        "- `portfolio`: Portfolio of instruments used for bootstrapping\n",
        "\n",
        "**Key Methods**:\n",
        "- `set_constituent_portfolio(portfolio)`: Sets the portfolio of instruments for bootstrapping\n",
        "- `bootstrap()`: Constructs the yield curve from the portfolio instruments\n",
        "\n",
        "**Role in the System**: Provides the machinery to construct a complete yield curve from market-observable instruments by iteratively solving for rates."
      ]
    },
    {
      "cell_type": "markdown",
      "metadata": {},
      "source": [
        "## 7. Helper Function: exp_interp\n",
        "\n",
        "**Purpose**: Performs exponential interpolation for continuously compounded rates.\n",
        "\n",
        "**Parameters**:\n",
        "- `xs`: Vector of x values (maturities)\n",
        "- `ys`: Vector of y values (rates/factors)\n",
        "- `x`: The x value to interpolate\n",
        "\n",
        "**Role in the System**: Used by the ZeroCurve class to interpolate rates between known maturities, ensuring smooth and theoretically sound rate transitions."
      ]
    },
    {
      "cell_type": "markdown",
      "metadata": {},
      "source": [
        "## Object Relationships\n",
        "\n",
        "The classes in the FM_yield_curve repository form a cohesive system with the following key relationships:\n",
        "\n",
        "1. **Inheritance Relationships**:\n",
        "   - `Bank_bill`, `Bond`, and `Portfolio` inherit from `CashFlows`\n",
        "   - `YieldCurve` inherits from `ZeroCurve`\n",
        "\n",
        "2. **Composition Relationships**:\n",
        "   - `Portfolio` contains collections of `Bond` and `Bank_bill` objects\n",
        "   - `YieldCurve` references a `Portfolio` for bootstrapping\n",
        "\n",
        "3. **Functional Relationships**:\n",
        "   - `ZeroCurve` can calculate NPV of any `CashFlows` object\n",
        "   - `YieldCurve` bootstraps itself using information from `Portfolio` instruments\n",
        "\n",
        "4. **Data Flow**:\n",
        "   - Financial instruments (Bank_bills, Bonds) ➔ Portfolio ➔ YieldCurve ➔ Discount Factors/Zero Rates"
      ]
    },
    {
      "cell_type": "markdown",
      "metadata": {},
      "source": [
        "## Typical Usage Flow\n",
        "\n",
        "1. Create bond and bank bill instances with market data\n",
        "2. Add them to a Portfolio\n",
        "3. Create a YieldCurve\n",
        "4. Set the Portfolio as the constituent portfolio for the YieldCurve\n",
        "5. Call bootstrap() to construct the zero curve\n",
        "6. Use the curve for pricing, risk analysis, or forecasting\n",
        "\n",
        "This flow is demonstrated in the repository's Jupyter notebooks, particularly in `3_yield_curve_working.ipynb`."
      ]
    },
    {
      "cell_type": "markdown",
      "metadata": {},
      "source": [
        "## Visual Class Relationship Diagram\n",
        "\n",
        "```\n",
        "┌─────────────┐     ┌─────────────┐\n",
        "│  CashFlows  │     │  ZeroCurve  │\n",
        "└─────┬───────┘     └──────┬──────┘\n",
        "      │                    │\n",
        "┌─────┴───────┐           │\n",
        "│             │           │\n",
        "▼             ▼           ▼\n",
        "┌────────┐  ┌────────┐  ┌─────────────┐\n",
        "│Bank_bill│  │  Bond  │  │ YieldCurve  │\n",
        "└────┬────┘  └────┬───┘  └──────┬──────┘\n",
        "     │           │            │\n",
        "     └─────┐ ┌───┘            │\n",
        "           ▼ ▼                │\n",
        "        ┌────────┐     uses   │\n",
        "        │Portfolio│◄──────────┘\n",
        "        └────────┘\n",
        "```\n",
        "\n",
        "This diagram illustrates how the different classes relate to each other through inheritance (solid lines) and composition/usage (dashed lines)."
      ]
    },
    {
      "cell_type": "markdown",
      "metadata": {},
      "source": [
        "## Summary\n",
        "\n",
        "The FM_yield_curve repository provides a comprehensive object-oriented framework for modeling financial instruments and yield curves. The design follows good OOP principles:\n",
        "\n",
        "1. **Separation of Concerns**: Each class has a distinct responsibility\n",
        "2. **Inheritance Hierarchy**: Common functionality is implemented in base classes\n",
        "3. **Encapsulation**: Implementation details are hidden behind clear interfaces\n",
        "4. **Composition**: Complex objects are built from simpler ones\n",
        "\n",
        "This architecture makes the code maintainable, extensible, and aligned with financial theory and practice."
      ]
    }
  ],
  "metadata": {
    "kernelspec": {
      "display_name": "Python 3",
      "language": "python",
      "name": "python3"
    },
    "language_info": {
      "codemirror_mode": {
        "name": "ipython",
        "version": 3
      },
      "file_extension": ".py",
      "mimetype": "text/x-python",
      "name": "python",
      "nbconvert_exporter": "python",
      "pygments_lexer": "ipython3",
      "version": "3.8.10"
    }
  },
  "nbformat": 4,
  "nbformat_minor": 4
}