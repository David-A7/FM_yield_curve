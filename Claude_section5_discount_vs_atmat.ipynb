{
 "cells": [
  {
   "cell_type": "markdown",
   "metadata": {},
   "source": [
    "# Discount Factors vs. At-Maturity Factors"
   ]
  },
  {
   "cell_type": "markdown",
   "metadata": {},
   "source": [
    "This notebook examines the relationship between discount factors and at-maturity factors (future value factors), and how exponential interpolation applies to both."
   ]
  },
  {
   "cell_type": "code",
   "execution_count": null,
   "metadata": {},
   "outputs": [],
   "source": [
    "import math\n",
    "import numpy as np\n",
    "import matplotlib.pyplot as plt"
   ]
  },
  {
   "cell_type": "markdown",
   "metadata": {},
   "source": [
    "## The Relationship\n",
    "\n",
    "Discount factors (DF) and at-maturity factors (AtMat) are inversely related:\n",
    "\n",
    "$$AtMat = \\frac{1}{DF}$$\n",
    "\n",
    "Both represent the same information in different forms:\n",
    "- **Discount factor**: Present value of 1 unit of currency at a future date\n",
    "- **At-maturity factor**: Future value of 1 unit of currency invested today"
   ]
  },
  {
   "cell_type": "code",
   "execution_count": null,
   "metadata": {},
   "outputs": [],
   "source": [
    "# Example: Convert between DF and AtMat\n",
    "r = 0.05  # 5% continuously compounded rate\n",
    "t = 2.0   # 2 years\n",
    "\n",
    "# Calculate discount factor\n",
    "df = math.exp(-r * t)\n",
    "\n",
    "# Calculate at-maturity factor\n",
    "atmat = math.exp(r * t)\n",
    "\n",
    "# Verify relationship\n",
    "atmat_from_df = 1 / df\n",
    "df_from_atmat = 1 / atmat\n",
    "\n",
    "print(f\"Discount Factor: {df:.6f}\")\n",
    "print(f\"At-Maturity Factor: {atmat:.6f}\")\n",
    "print(f\"AtMat from DF: {atmat_from_df:.6f}\")\n",
    "print(f\"DF from AtMat: {df_from_atmat:.6f}\")"
   ]
  },
  {
   "cell_type": "markdown",
   "metadata": {},
   "source": [
    "## Relationship to Continuous Compounding\n",
    "\n",
    "Both factors are expressed in terms of continuously compounded rates:\n",
    "\n",
    "$$DF(t) = e^{-r \\cdot t}$$\n",
    "$$AtMat(t) = e^{r \\cdot t}$$\n",
    "\n",
    "From these equations, we can extract the continuously compounded rate:\n",
    "\n",
    "$$r = -\\frac{\\ln(DF)}{t} = \\frac{\\ln(AtMat)}{t}$$"
   ]
  },
  {
   "cell_type": "code",
   "execution_count": null,
   "metadata": {},
   "outputs": [],
   "source": [
    "# Extract rate from factors\n",
    "r_from_df = -math.log(df) / t\n",
    "r_from_atmat = math.log(atmat) / t\n",
    "\n",
    "print(f\"Original rate: {r:.4f}\")\n",
    "print(f\"Rate from DF: {r_from_df:.4f}\")\n",
    "print(f\"Rate from AtMat: {r_from_atmat:.4f}\")"
   ]
  },
  {
   "cell_type": "markdown",
   "metadata": {},
   "source": [
    "## Exponential Interpolation\n",
    "\n",
    "Exponential interpolation works equivalently for both discount factors and at-maturity factors.\n",
    "\n",
    "For discount factors $DF_1$ and $DF_2$ at times $t_1$ and $t_2$:\n",
    "$$DF(t) = DF_1 \\cdot \\left(\\frac{DF_2}{DF_1}\\right)^{\\frac{t-t_1}{t_2-t_1}}$$\n",
    "\n",
    "For at-maturity factors $AtMat_1$ and $AtMat_2$ at times $t_1$ and $t_2$:\n",
    "$$AtMat(t) = AtMat_1 \\cdot \\left(\\frac{AtMat_2}{AtMat_1}\\right)^{\\frac{t-t_1}{t_2-t_1}}$$"
   ]
  },
  {
   "cell_type": "code",
   "execution_count": null,
   "metadata": {},
   "outputs": [],
   "source": [
    "# Example: Interpolation with both representations\n",
    "t1, t2 = 1.0, 3.0\n",
    "\n",
    "# Generate factors at these points\n",
    "r_curve = 0.06  # 6% continuous rate\n",
    "df1 = math.exp(-r_curve * t1)\n",
    "df2 = math.exp(-r_curve * t2)\n",
    "atmat1 = 1 / df1\n",
    "atmat2 = 1 / df2\n",
    "\n",
    "# Interpolation point\n",
    "t_mid = 2.0\n",
    "weight = (t_mid - t1) / (t2 - t1)\n",
    "\n",
    "# Interpolate using both methods\n",
    "df_interp = df1 * (df2 / df1)**weight\n",
    "atmat_interp = atmat1 * (atmat2 / atmat1)**weight\n",
    "\n",
    "print(f\"Interpolated DF at t={t_mid}: {df_interp:.6f}\")\n",
    "print(f\"Interpolated AtMat at t={t_mid}: {atmat_interp:.6f}\")\n",
    "print(f\"Relationship check: AtMat = 1/DF? {atmat_interp:.6f} vs {1/df_interp:.6f}\")"
   ]
  },
  {
   "cell_type": "markdown",
   "metadata": {},
   "source": [
    "## Visualization\n",
    "\n",
    "Let's visualize how discount factors decrease while at-maturity factors increase over time:"
   ]
  },
  {
   "cell_type": "code",
   "execution_count": null,
   "metadata": {},
   "outputs": [],
   "source": [
    "# Generate curves for different rates\n",
    "times = np.linspace(0, 5, 100)\n",
    "rates = [0.03, 0.05, 0.07]  # 3%, 5%, 7%\n",
    "\n",
    "plt.figure(figsize=(12, 5))\n",
    "\n",
    "# Plot discount factors\n",
    "plt.subplot(1, 2, 1)\n",
    "for rate in rates:\n",
    "    dfs = [math.exp(-rate * t) for t in times]\n",
    "    plt.plot(times, dfs, label=f'{rate*100:.0f}%')\n",
    "\n",
    "plt.ylim(0.6, 1.05)\n",
    "plt.title('Discount Factors')\n",
    "plt.xlabel('Time (years)')\n",
    "plt.ylabel('Discount Factor')\n",
    "plt.grid(alpha=0.3)\n",
    "plt.legend(title='Rate')\n",
    "\n",
    "# Plot at-maturity factors\n",
    "plt.subplot(1, 2, 2)\n",
    "for rate in rates:\n",
    "    atmats = [math.exp(rate * t) for t in times]\n",
    "    plt.plot(times, atmats, label=f'{rate*100:.0f}%')\n",
    "\n",
    "plt.ylim(0.95, 1.45)\n",
    "plt.title('At-Maturity Factors')\n",
    "plt.xlabel('Time (years)')\n",
    "plt.ylabel('At-Maturity Factor')\n",
    "plt.grid(alpha=0.3)\n",
    "plt.legend(title='Rate')\n",
    "\n",
    "plt.tight_layout()\n",
    "plt.show()"
   ]
  },
  {
   "cell_type": "markdown",
   "metadata": {},
   "source": [
    "## Practical Considerations\n",
    "\n",
    "**Choosing between representations:**\n",
    "\n",
    "1. **Discount factors** are typically used for:\n",
    "   - Pricing fixed cash flows (bonds, swaps)\n",
    "   - Yield curve construction\n",
    "   - Risk management calculations\n",
    "\n",
    "2. **At-maturity factors** are useful for:\n",
    "   - Compounding calculations\n",
    "   - Forward rate agreements\n",
    "   - Investment return analysis\n",
    "\n",
    "Both representations can be used interchangeably, with the choice often depending on the specific application or personal preference."
   ]
  }
 ],
 "metadata": {
  "kernelspec": {
   "display_name": "Python 3",
   "language": "python",
   "name": "python3"
  },
  "language_info": {
   "codemirror_mode": {
    "name": "ipython",
    "version": 3
   },
   "file_extension": ".py",
   "mimetype": "text/x-python",
   "name": "python",
   "nbconvert_exporter": "python",
   "pygments_lexer": "ipython3",
   "version": "3.12.1"
  }
 },
 "nbformat": 4,
 "nbformat_minor": 2
}