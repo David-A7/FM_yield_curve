{
 "cells": [
  {
   "cell_type": "markdown",
   "metadata": {},
   "source": [
    "# Zero Curve Construction and Analysis\n",
    "\n",
    "## Overview\n",
    "This notebook demonstrates the construction and manipulation of zero curves, which are fundamental tools in fixed income mathematics and financial engineering. The notebook covers:\n",
    "\n",
    "1. Implementation of exponential interpolation for yield curves\n",
    "2. Working with the ZeroCurve class to:\n",
    "   - Add zero rates to the curve\n",
    "   - Calculate discount factors\n",
    "   - Perform interpolation for missing maturities\n",
    "   - Transform curve data for analysis\n",
    "\n",
    "## Key Concepts\n",
    "- **Zero Rates**: Interest rates for zero-coupon bonds of different maturities\n",
    "- **Discount Factors**: Present values of 1 unit of currency paid at future dates\n",
    "- **Exponential Interpolation**: A method for estimating rates between known points on the curve\n",
    "- **Amount at Maturity (AtMat)**: Future value based on zero rates\n",
    "\n",
    "## Dependencies\n",
    "The notebook uses standard Python libraries for mathematical operations and data manipulation:\n",
    "- math: For basic mathematical operations\n",
    "- numpy: For numerical computations\n",
    "- pandas: For data manipulation and analysis\n",
    "- Custom yield_curve module: Contains ZeroCurve class implementation"
   ]
  },
  {
   "cell_type": "code",
   "execution_count": 1,
   "metadata": {},
   "outputs": [],
   "source": [
    "import math\n",
    "import numpy as np\n",
    "import importlib\n",
    "import pandas as pd"
   ]
  },
  {
   "cell_type": "markdown",
   "metadata": {},
   "source": [
    "# Exponential Interpolation Demonstration\n",
    "\n",
    "The following section demonstrates exponential interpolation, which is a key technique in yield curve construction. This method is particularly suitable for interest rates because:\n",
    "\n",
    "1. It preserves the positivity of rates\n",
    "2. It reflects the compound growth nature of interest rates\n",
    "3. It provides smooth and continuous interpolation between known points\n",
    "\n",
    "Below, we'll first implement the interpolation manually to understand the process, then use our implemented function from the yield_curve module."
   ]
  },
  {
   "cell_type": "code",
   "execution_count": 2,
   "metadata": {},
   "outputs": [
    {
     "name": "stdout",
     "output_type": "stream",
     "text": [
      "Continuous compounding rate is: 0.09531017980432474\n",
      "The Amount at Maturity at 1.5 is 1.1536897329871667\n"
     ]
    }
   ],
   "source": [
    "# Exponential interpolation demonstration\n",
    "# We'll interpolate between two known points (x1,y1) and (x2,y2)\n",
    "# to find a value y at point x\n",
    "\n",
    "x1 = 1\n",
    "x2 = 2\n",
    "y1 = 1.1    # Amount at maturity after 1 year\n",
    "y2 = 1.21   # Amount at maturity after 2 years\n",
    "x = 1.5     # Target interpolation point\n",
    "\n",
    "# Calculate continuous compounding interest rate between y1 and y2\n",
    "# Using the formula: r = ln(y2/y1)/(x2-x1)\n",
    "rate = math.log(y2 / y1) / (x2 - x1)\n",
    "print(\"Continuous compounding rate is: \" + str(rate)) \n",
    "\n",
    "# Calculate the interpolated y value at point x\n",
    "# Using the formula: y = y1 * exp(r * (x - x1))\n",
    "y = y1 * math.exp(rate * (x - x1))\n",
    "\n",
    "print(\"The Amount at Maturity at \" + str(x) + \" is \" + str(y))\n"
   ]
  },
  {
   "cell_type": "markdown",
   "metadata": {},
   "source": [
    "## Using the Implemented Interpolation Function\n",
    "\n",
    "Now we'll use our implemented `exp_interp` function from the yield_curve module to perform the same interpolation. This function:\n",
    "1. Takes arrays of x and y values, plus the target x value\n",
    "2. Finds the appropriate interval for interpolation\n",
    "3. Applies exponential interpolation using the same methodology as above\n",
    "4. Handles edge cases and error conditions"
   ]
  },
  {
   "cell_type": "code",
   "execution_count": 3,
   "metadata": {},
   "outputs": [
    {
     "name": "stdout",
     "output_type": "stream",
     "text": [
      "Interpolated y: 1.1536897329871667\n"
     ]
    }
   ],
   "source": [
    "# Demonstrate exp_interp function usage\n",
    "\n",
    "from yield_curve import exp_interp\n",
    "\n",
    "xs = [0, 1, 2]           # Maturities\n",
    "ys = [1, 1.1, 1.21]      # Amounts at maturity\n",
    "x = 1.5                  # Target maturity\n",
    "\n",
    "interpolated_y = exp_interp(xs, ys, x)\n",
    "print(\"Interpolated y:\", interpolated_y)"
   ]
  },
  {
   "cell_type": "markdown",
   "metadata": {},
   "source": [
    "# Working with the ZeroCurve Class\n",
    "\n",
    "The following section demonstrates the main functionality of the ZeroCurve class, which provides a complete toolkit for working with zero curves. We'll explore:\n",
    "\n",
    "1. Creating and populating a zero curve\n",
    "2. Calculating various measures (zero rates, discount factors, amounts at maturity)\n",
    "3. Interpolating values for non-standard maturities\n",
    "4. Presenting the curve data in different formats\n",
    "\n",
    "The ZeroCurve class manages internal consistency between different representations of the same curve (zero rates, discount factors, and amounts at maturity) and provides interpolation capabilities for missing points."
   ]
  },
  {
   "cell_type": "code",
   "execution_count": 4,
   "metadata": {},
   "outputs": [
    {
     "name": "stdout",
     "output_type": "stream",
     "text": [
      "1-year zero rate: 0.01\n",
      "1-year discount factor: 0.9900498337491681\n",
      "2-year discount factor: 0.9607894391523232\n",
      "3-year discount factor: 0.9139311852712282\n",
      "4-year discount factor: 0.8521437889662113\n",
      "Zero rate for 1.5 years: 0.016666666666666535\n",
      "Amount at Maturity for 1.5 years: 1.0253151205244286\n",
      "Discount factor for 1.5 years: 0.9753099120283327\n",
      "Complete zero curve: ([1, 2, 3, 4], [0.9900498337491681, 0.9607894391523232, 0.9139311852712282, 0.8521437889662113])\n",
      "\n",
      "Zero Curve DataFrame:\n",
      "          Discount Factor\n",
      "Maturity                 \n",
      "1.0              0.990050\n",
      "2.0              0.960789\n",
      "3.0              0.913931\n",
      "4.0              0.852144\n"
     ]
    },
    {
     "data": {
      "application/vnd.microsoft.datawrangler.viewer.v0+json": {
       "columns": [
        {
         "name": "Maturity",
         "rawType": "float64",
         "type": "float"
        },
        {
         "name": "Discount Factor",
         "rawType": "float64",
         "type": "float"
        }
       ],
       "conversionMethod": "pd.DataFrame",
       "ref": "67a34ed8-e8e9-4788-818d-2d59c09e0d21",
       "rows": [
        [
         "1.0",
         "0.9900498337491681"
        ],
        [
         "2.0",
         "0.9607894391523232"
        ],
        [
         "3.0",
         "0.9139311852712282"
        ],
        [
         "4.0",
         "0.8521437889662113"
        ]
       ],
       "shape": {
        "columns": 1,
        "rows": 4
       }
      },
      "text/html": [
       "<div>\n",
       "<style scoped>\n",
       "    .dataframe tbody tr th:only-of-type {\n",
       "        vertical-align: middle;\n",
       "    }\n",
       "\n",
       "    .dataframe tbody tr th {\n",
       "        vertical-align: top;\n",
       "    }\n",
       "\n",
       "    .dataframe thead th {\n",
       "        text-align: right;\n",
       "    }\n",
       "</style>\n",
       "<table border=\"1\" class=\"dataframe\">\n",
       "  <thead>\n",
       "    <tr style=\"text-align: right;\">\n",
       "      <th></th>\n",
       "      <th>Discount Factor</th>\n",
       "    </tr>\n",
       "    <tr>\n",
       "      <th>Maturity</th>\n",
       "      <th></th>\n",
       "    </tr>\n",
       "  </thead>\n",
       "  <tbody>\n",
       "    <tr>\n",
       "      <th>1.0</th>\n",
       "      <td>0.990050</td>\n",
       "    </tr>\n",
       "    <tr>\n",
       "      <th>2.0</th>\n",
       "      <td>0.960789</td>\n",
       "    </tr>\n",
       "    <tr>\n",
       "      <th>3.0</th>\n",
       "      <td>0.913931</td>\n",
       "    </tr>\n",
       "    <tr>\n",
       "      <th>4.0</th>\n",
       "      <td>0.852144</td>\n",
       "    </tr>\n",
       "  </tbody>\n",
       "</table>\n",
       "</div>"
      ],
      "text/plain": [
       "          Discount Factor\n",
       "Maturity                 \n",
       "1.0              0.990050\n",
       "2.0              0.960789\n",
       "3.0              0.913931\n",
       "4.0              0.852144"
      ]
     },
     "execution_count": 4,
     "metadata": {},
     "output_type": "execute_result"
    }
   ],
   "source": [
    "import yield_curve as zCurve\n",
    "importlib.reload(zCurve)\n",
    "\n",
    "# Create an instance of the ZeroCurve class\n",
    "# This initializes an empty curve ready to accept rate information\n",
    "zc = zCurve.ZeroCurve()\n",
    "\n",
    "# Add zero rates to the curve\n",
    "# These rates represent annual interest rates for zero-coupon bonds\n",
    "zc.add_zero_rate(1, 0.01)  # 1% for 1 year\n",
    "zc.add_zero_rate(2, 0.02)  # 2% for 2 years\n",
    "zc.add_zero_rate(3, 0.03)  # 3% for 3 years\n",
    "zc.add_zero_rate(4, 0.04)  # 4% for 4 years\n",
    "\n",
    "# Demonstrate retrieving zero rates\n",
    "print(\"1-year zero rate:\", zc.get_zero_rate(1))\n",
    "\n",
    "# Calculate and display discount factors\n",
    "# Discount factors represent the present value of 1 unit of currency\n",
    "print(\"1-year discount factor:\", zc.get_discount_factor(1))\n",
    "print(\"2-year discount factor:\", zc.get_discount_factor(2))\n",
    "print(\"3-year discount factor:\", zc.get_discount_factor(3))\n",
    "print(\"4-year discount factor:\", zc.get_discount_factor(4))\n",
    "\n",
    "# Demonstrate interpolation for a non-standard maturity\n",
    "maturity_lookup = 1.5\n",
    "print(f\"Zero rate for {maturity_lookup} years:\", zc.get_zero_rate(maturity_lookup))\n",
    "print(f\"Amount at Maturity for {maturity_lookup} years:\", zc.get_AtMat(maturity_lookup))\n",
    "print(f\"Discount factor for {maturity_lookup} years:\", zc.get_discount_factor(maturity_lookup))\n",
    "\n",
    "# Get the complete zero curve data\n",
    "print(\"Complete zero curve:\", zc.get_zero_curve())\n",
    "\n",
    "# Create a pandas DataFrame for better data visualization and analysis\n",
    "zCurve = np.transpose(zc.get_zero_curve())\n",
    "zc_dataframe = pd.DataFrame(zCurve, columns=['Maturity', 'Discount Factor'])\n",
    "zc_dataframe.set_index('Maturity', inplace=True)\n",
    "print(\"\\nZero Curve DataFrame:\")\n",
    "print(zc_dataframe)\n",
    "zc_dataframe\n"
   ]
  }
 ],
 "metadata": {
  "kernelspec": {
   "display_name": "Python 3",
   "language": "python",
   "name": "python3"
  },
  "language_info": {
   "codemirror_mode": {
    "name": "ipython",
    "version": 3
   },
   "file_extension": ".py",
   "mimetype": "text/x-python",
   "name": "python",
   "nbconvert_exporter": "python",
   "pygments_lexer": "ipython3",
   "version": "3.12.1"
  }
 },
 "nbformat": 4,
 "nbformat_minor": 2
}
